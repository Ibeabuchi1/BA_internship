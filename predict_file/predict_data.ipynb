{
 "cells": [
  {
   "cell_type": "code",
   "execution_count": 1,
   "metadata": {},
   "outputs": [],
   "source": [
    "import pandas as pd\n",
    "import numpy as np\n",
    "import matplotlib.pyplot as plt\n",
    "import seaborn as sns\n",
    "\n",
    "%matplotlib inline\n",
    "\n",
    "from sklearn.model_selection import train_test_split\n"
   ]
  },
  {
   "cell_type": "code",
   "execution_count": null,
   "metadata": {},
   "outputs": [],
   "source": [
    "# from tensorflow.keras.preprocessing.text import one_hot\n",
    "# from tensorflow.keras.preprocessing.sequence import pad_sequences\n",
    "# from tensorflow.keras.models import Sequential\n",
    "# from tensorflow.keras.layers import Embedding\n",
    "# from tensorflow.keras.layers import LSTM\n",
    "# from tensorflow.keras.layers import Dense\n"
   ]
  },
  {
   "cell_type": "code",
   "execution_count": 90,
   "metadata": {},
   "outputs": [],
   "source": [
    "df = pd.read_csv('../customer_booking/filtered_customer_booking.csv', index_col=0)\n",
    "df= df.reset_index(drop=True)"
   ]
  },
  {
   "cell_type": "code",
   "execution_count": 93,
   "metadata": {},
   "outputs": [
    {
     "data": {
      "text/html": [
       "<div>\n",
       "<style scoped>\n",
       "    .dataframe tbody tr th:only-of-type {\n",
       "        vertical-align: middle;\n",
       "    }\n",
       "\n",
       "    .dataframe tbody tr th {\n",
       "        vertical-align: top;\n",
       "    }\n",
       "\n",
       "    .dataframe thead th {\n",
       "        text-align: right;\n",
       "    }\n",
       "</style>\n",
       "<table border=\"1\" class=\"dataframe\">\n",
       "  <thead>\n",
       "    <tr style=\"text-align: right;\">\n",
       "      <th></th>\n",
       "      <th>num_passengers</th>\n",
       "      <th>sales_channel</th>\n",
       "      <th>trip_type</th>\n",
       "      <th>purchase_lead</th>\n",
       "      <th>length_of_stay</th>\n",
       "      <th>flight_hour</th>\n",
       "      <th>flight_day</th>\n",
       "      <th>booking_origin</th>\n",
       "      <th>wants_extra_baggage</th>\n",
       "      <th>wants_preferred_seat</th>\n",
       "      <th>wants_in_flight_meals</th>\n",
       "      <th>flight_duration</th>\n",
       "      <th>booking_complete</th>\n",
       "    </tr>\n",
       "  </thead>\n",
       "  <tbody>\n",
       "    <tr>\n",
       "      <th>0</th>\n",
       "      <td>2</td>\n",
       "      <td>Internet</td>\n",
       "      <td>RoundTrip</td>\n",
       "      <td>262</td>\n",
       "      <td>19</td>\n",
       "      <td>7</td>\n",
       "      <td>6</td>\n",
       "      <td>New Zealand</td>\n",
       "      <td>1</td>\n",
       "      <td>0</td>\n",
       "      <td>0</td>\n",
       "      <td>5.52</td>\n",
       "      <td>0</td>\n",
       "    </tr>\n",
       "    <tr>\n",
       "      <th>1</th>\n",
       "      <td>1</td>\n",
       "      <td>Internet</td>\n",
       "      <td>RoundTrip</td>\n",
       "      <td>112</td>\n",
       "      <td>20</td>\n",
       "      <td>3</td>\n",
       "      <td>6</td>\n",
       "      <td>New Zealand</td>\n",
       "      <td>0</td>\n",
       "      <td>0</td>\n",
       "      <td>0</td>\n",
       "      <td>5.52</td>\n",
       "      <td>0</td>\n",
       "    </tr>\n",
       "    <tr>\n",
       "      <th>2</th>\n",
       "      <td>2</td>\n",
       "      <td>Internet</td>\n",
       "      <td>RoundTrip</td>\n",
       "      <td>243</td>\n",
       "      <td>22</td>\n",
       "      <td>17</td>\n",
       "      <td>3</td>\n",
       "      <td>India</td>\n",
       "      <td>1</td>\n",
       "      <td>1</td>\n",
       "      <td>0</td>\n",
       "      <td>5.52</td>\n",
       "      <td>0</td>\n",
       "    </tr>\n",
       "    <tr>\n",
       "      <th>3</th>\n",
       "      <td>1</td>\n",
       "      <td>Internet</td>\n",
       "      <td>RoundTrip</td>\n",
       "      <td>96</td>\n",
       "      <td>31</td>\n",
       "      <td>4</td>\n",
       "      <td>6</td>\n",
       "      <td>New Zealand</td>\n",
       "      <td>0</td>\n",
       "      <td>0</td>\n",
       "      <td>1</td>\n",
       "      <td>5.52</td>\n",
       "      <td>0</td>\n",
       "    </tr>\n",
       "    <tr>\n",
       "      <th>4</th>\n",
       "      <td>2</td>\n",
       "      <td>Internet</td>\n",
       "      <td>RoundTrip</td>\n",
       "      <td>68</td>\n",
       "      <td>22</td>\n",
       "      <td>15</td>\n",
       "      <td>3</td>\n",
       "      <td>India</td>\n",
       "      <td>1</td>\n",
       "      <td>0</td>\n",
       "      <td>1</td>\n",
       "      <td>5.52</td>\n",
       "      <td>0</td>\n",
       "    </tr>\n",
       "    <tr>\n",
       "      <th>...</th>\n",
       "      <td>...</td>\n",
       "      <td>...</td>\n",
       "      <td>...</td>\n",
       "      <td>...</td>\n",
       "      <td>...</td>\n",
       "      <td>...</td>\n",
       "      <td>...</td>\n",
       "      <td>...</td>\n",
       "      <td>...</td>\n",
       "      <td>...</td>\n",
       "      <td>...</td>\n",
       "      <td>...</td>\n",
       "      <td>...</td>\n",
       "    </tr>\n",
       "    <tr>\n",
       "      <th>49960</th>\n",
       "      <td>2</td>\n",
       "      <td>Internet</td>\n",
       "      <td>RoundTrip</td>\n",
       "      <td>27</td>\n",
       "      <td>6</td>\n",
       "      <td>9</td>\n",
       "      <td>6</td>\n",
       "      <td>Australia</td>\n",
       "      <td>1</td>\n",
       "      <td>0</td>\n",
       "      <td>1</td>\n",
       "      <td>5.62</td>\n",
       "      <td>0</td>\n",
       "    </tr>\n",
       "    <tr>\n",
       "      <th>49961</th>\n",
       "      <td>1</td>\n",
       "      <td>Internet</td>\n",
       "      <td>RoundTrip</td>\n",
       "      <td>111</td>\n",
       "      <td>6</td>\n",
       "      <td>4</td>\n",
       "      <td>7</td>\n",
       "      <td>Australia</td>\n",
       "      <td>0</td>\n",
       "      <td>0</td>\n",
       "      <td>0</td>\n",
       "      <td>5.62</td>\n",
       "      <td>0</td>\n",
       "    </tr>\n",
       "    <tr>\n",
       "      <th>49962</th>\n",
       "      <td>1</td>\n",
       "      <td>Internet</td>\n",
       "      <td>RoundTrip</td>\n",
       "      <td>24</td>\n",
       "      <td>6</td>\n",
       "      <td>22</td>\n",
       "      <td>6</td>\n",
       "      <td>Australia</td>\n",
       "      <td>0</td>\n",
       "      <td>0</td>\n",
       "      <td>1</td>\n",
       "      <td>5.62</td>\n",
       "      <td>0</td>\n",
       "    </tr>\n",
       "    <tr>\n",
       "      <th>49963</th>\n",
       "      <td>1</td>\n",
       "      <td>Internet</td>\n",
       "      <td>RoundTrip</td>\n",
       "      <td>15</td>\n",
       "      <td>6</td>\n",
       "      <td>11</td>\n",
       "      <td>1</td>\n",
       "      <td>Australia</td>\n",
       "      <td>1</td>\n",
       "      <td>0</td>\n",
       "      <td>1</td>\n",
       "      <td>5.62</td>\n",
       "      <td>0</td>\n",
       "    </tr>\n",
       "    <tr>\n",
       "      <th>49964</th>\n",
       "      <td>1</td>\n",
       "      <td>Internet</td>\n",
       "      <td>RoundTrip</td>\n",
       "      <td>19</td>\n",
       "      <td>6</td>\n",
       "      <td>10</td>\n",
       "      <td>4</td>\n",
       "      <td>Australia</td>\n",
       "      <td>0</td>\n",
       "      <td>1</td>\n",
       "      <td>0</td>\n",
       "      <td>5.62</td>\n",
       "      <td>0</td>\n",
       "    </tr>\n",
       "  </tbody>\n",
       "</table>\n",
       "<p>49965 rows × 13 columns</p>\n",
       "</div>"
      ],
      "text/plain": [
       "       num_passengers sales_channel  trip_type  purchase_lead  length_of_stay  \\\n",
       "0                   2      Internet  RoundTrip            262              19   \n",
       "1                   1      Internet  RoundTrip            112              20   \n",
       "2                   2      Internet  RoundTrip            243              22   \n",
       "3                   1      Internet  RoundTrip             96              31   \n",
       "4                   2      Internet  RoundTrip             68              22   \n",
       "...               ...           ...        ...            ...             ...   \n",
       "49960               2      Internet  RoundTrip             27               6   \n",
       "49961               1      Internet  RoundTrip            111               6   \n",
       "49962               1      Internet  RoundTrip             24               6   \n",
       "49963               1      Internet  RoundTrip             15               6   \n",
       "49964               1      Internet  RoundTrip             19               6   \n",
       "\n",
       "       flight_hour  flight_day booking_origin  wants_extra_baggage  \\\n",
       "0                7           6    New Zealand                    1   \n",
       "1                3           6    New Zealand                    0   \n",
       "2               17           3          India                    1   \n",
       "3                4           6    New Zealand                    0   \n",
       "4               15           3          India                    1   \n",
       "...            ...         ...            ...                  ...   \n",
       "49960            9           6      Australia                    1   \n",
       "49961            4           7      Australia                    0   \n",
       "49962           22           6      Australia                    0   \n",
       "49963           11           1      Australia                    1   \n",
       "49964           10           4      Australia                    0   \n",
       "\n",
       "       wants_preferred_seat  wants_in_flight_meals  flight_duration  \\\n",
       "0                         0                      0             5.52   \n",
       "1                         0                      0             5.52   \n",
       "2                         1                      0             5.52   \n",
       "3                         0                      1             5.52   \n",
       "4                         0                      1             5.52   \n",
       "...                     ...                    ...              ...   \n",
       "49960                     0                      1             5.62   \n",
       "49961                     0                      0             5.62   \n",
       "49962                     0                      1             5.62   \n",
       "49963                     0                      1             5.62   \n",
       "49964                     1                      0             5.62   \n",
       "\n",
       "       booking_complete  \n",
       "0                     0  \n",
       "1                     0  \n",
       "2                     0  \n",
       "3                     0  \n",
       "4                     0  \n",
       "...                 ...  \n",
       "49960                 0  \n",
       "49961                 0  \n",
       "49962                 0  \n",
       "49963                 0  \n",
       "49964                 0  \n",
       "\n",
       "[49965 rows x 13 columns]"
      ]
     },
     "execution_count": 93,
     "metadata": {},
     "output_type": "execute_result"
    }
   ],
   "source": [
    "df"
   ]
  },
  {
   "cell_type": "code",
   "execution_count": 99,
   "metadata": {},
   "outputs": [],
   "source": [
    "del df['booking_origin']"
   ]
  },
  {
   "cell_type": "code",
   "execution_count": 27,
   "metadata": {},
   "outputs": [
    {
     "data": {
      "text/plain": [
       "num_passengers             int64\n",
       "sales_channel             object\n",
       "trip_type                 object\n",
       "purchase_lead              int64\n",
       "length_of_stay             int64\n",
       "flight_hour                int64\n",
       "flight_day                 int64\n",
       "booking_origin            object\n",
       "wants_extra_baggage        int64\n",
       "wants_preferred_seat       int64\n",
       "wants_in_flight_meals      int64\n",
       "flight_duration          float64\n",
       "booking_complete           int64\n",
       "dtype: object"
      ]
     },
     "execution_count": 27,
     "metadata": {},
     "output_type": "execute_result"
    }
   ],
   "source": [
    "df.dtypes"
   ]
  },
  {
   "cell_type": "code",
   "execution_count": 29,
   "metadata": {},
   "outputs": [],
   "source": [
    "from sklearn.preprocessing import OneHotEncoder"
   ]
  },
  {
   "cell_type": "code",
   "execution_count": 30,
   "metadata": {},
   "outputs": [],
   "source": [
    "encoder = OneHotEncoder(handle_unknown='ignore')"
   ]
  },
  {
   "cell_type": "code",
   "execution_count": 94,
   "metadata": {},
   "outputs": [],
   "source": [
    "# one hot encode sales channel\n",
    "sales_encoded = pd.DataFrame(encoder.fit_transform(df[['sales_channel']]).toarray())\n",
    "sales_encoded = sales_encoded.rename(columns={0: 'internet', 1: 'mobile'})\n",
    "df = df.join(sales_encoded)\n",
    "\n",
    "# one hot encode trip type\n",
    "triptype_encoded = pd.DataFrame(encoder.fit_transform(df[['trip_type']]).toarray())\n",
    "triptype_encoded = triptype_encoded.rename(columns={0: 'circle_trip', 1: 'one_way', 2:'round_trip'})\n",
    "df = df.join(triptype_encoded)"
   ]
  },
  {
   "cell_type": "code",
   "execution_count": 51,
   "metadata": {},
   "outputs": [
    {
     "data": {
      "text/plain": [
       "trip_type\n",
       "RoundTrip     49462\n",
       "OneWay          387\n",
       "CircleTrip      116\n",
       "Name: count, dtype: int64"
      ]
     },
     "execution_count": 51,
     "metadata": {},
     "output_type": "execute_result"
    }
   ],
   "source": [
    "df.trip_type.value_counts()"
   ]
  },
  {
   "cell_type": "code",
   "execution_count": 95,
   "metadata": {},
   "outputs": [],
   "source": [
    "# drop categorical columns\n",
    "df.drop(['sales_channel', 'trip_type'], axis=1, inplace=True)"
   ]
  },
  {
   "cell_type": "code",
   "execution_count": null,
   "metadata": {},
   "outputs": [],
   "source": [
    "# store the target variable\n",
    "y_label = df.booking_complete\n",
    "# remove the target column\n",
    "del df['booking_complete']"
   ]
  },
  {
   "cell_type": "code",
   "execution_count": 97,
   "metadata": {},
   "outputs": [
    {
     "data": {
      "text/plain": [
       "(49965, 15)"
      ]
     },
     "execution_count": 97,
     "metadata": {},
     "output_type": "execute_result"
    }
   ],
   "source": [
    "df.shape"
   ]
  },
  {
   "cell_type": "code",
   "execution_count": null,
   "metadata": {},
   "outputs": [
    {
     "data": {
      "text/plain": [
       "<Axes: >"
      ]
     },
     "metadata": {},
     "output_type": "display_data"
    },
    {
     "data": {
      "image/png": "[encoded data removed]",
      "text/plain": [
       "<Figure size 640x480 with 2 Axes>"
      ]
     },
     "metadata": {},
     "output_type": "display_data"
    }
   ],
   "source": [
    "df_corr = df.corr()\n",
    "sns.heatmap(df_corr, cmap='viridis' )"
   ]
  },
  {
   "cell_type": "markdown",
   "metadata": {},
   "source": [
    "##### Normalize the Values"
   ]
  },
  {
   "cell_type": "code",
   "execution_count": 76,
   "metadata": {},
   "outputs": [],
   "source": [
    "from sklearn.preprocessing import StandardScaler"
   ]
  },
  {
   "cell_type": "code",
   "execution_count": 100,
   "metadata": {},
   "outputs": [],
   "source": [
    "# an instance of standard scaler\n",
    "scaler = StandardScaler()\n",
    "\n",
    "# scale the values\n",
    "scaled_df = scaler.fit_transform(df)"
   ]
  },
  {
   "cell_type": "code",
   "execution_count": 102,
   "metadata": {},
   "outputs": [],
   "source": [
    "scaled_df = pd.DataFrame(scaled_df, columns=df.columns)\n",
    "# add the target variable back to the dataframe\n",
    "scaled_df['label'] = y_label"
   ]
  },
  {
   "cell_type": "code",
   "execution_count": 104,
   "metadata": {},
   "outputs": [
    {
     "data": {
      "text/html": [
       "<div>\n",
       "<style scoped>\n",
       "    .dataframe tbody tr th:only-of-type {\n",
       "        vertical-align: middle;\n",
       "    }\n",
       "\n",
       "    .dataframe tbody tr th {\n",
       "        vertical-align: top;\n",
       "    }\n",
       "\n",
       "    .dataframe thead th {\n",
       "        text-align: right;\n",
       "    }\n",
       "</style>\n",
       "<table border=\"1\" class=\"dataframe\">\n",
       "  <thead>\n",
       "    <tr style=\"text-align: right;\">\n",
       "      <th></th>\n",
       "      <th>num_passengers</th>\n",
       "      <th>purchase_lead</th>\n",
       "      <th>length_of_stay</th>\n",
       "      <th>flight_hour</th>\n",
       "      <th>flight_day</th>\n",
       "      <th>wants_extra_baggage</th>\n",
       "      <th>wants_preferred_seat</th>\n",
       "      <th>wants_in_flight_meals</th>\n",
       "      <th>flight_duration</th>\n",
       "      <th>internet</th>\n",
       "      <th>mobile</th>\n",
       "      <th>circle_trip</th>\n",
       "      <th>one_way</th>\n",
       "      <th>round_trip</th>\n",
       "      <th>label</th>\n",
       "    </tr>\n",
       "  </thead>\n",
       "  <tbody>\n",
       "    <tr>\n",
       "      <th>0</th>\n",
       "      <td>0.400583</td>\n",
       "      <td>1.970982</td>\n",
       "      <td>-0.119164</td>\n",
       "      <td>-0.381593</td>\n",
       "      <td>1.096786</td>\n",
       "      <td>0.703607</td>\n",
       "      <td>-0.649993</td>\n",
       "      <td>-0.863460</td>\n",
       "      <td>-1.173844</td>\n",
       "      <td>0.355818</td>\n",
       "      <td>-0.355818</td>\n",
       "      <td>-0.048239</td>\n",
       "      <td>-0.088351</td>\n",
       "      <td>0.100844</td>\n",
       "      <td>0</td>\n",
       "    </tr>\n",
       "    <tr>\n",
       "      <th>1</th>\n",
       "      <td>-0.579494</td>\n",
       "      <td>0.302877</td>\n",
       "      <td>-0.088395</td>\n",
       "      <td>-1.120633</td>\n",
       "      <td>1.096786</td>\n",
       "      <td>-1.421248</td>\n",
       "      <td>-0.649993</td>\n",
       "      <td>-0.863460</td>\n",
       "      <td>-1.173844</td>\n",
       "      <td>0.355818</td>\n",
       "      <td>-0.355818</td>\n",
       "      <td>-0.048239</td>\n",
       "      <td>-0.088351</td>\n",
       "      <td>0.100844</td>\n",
       "      <td>0</td>\n",
       "    </tr>\n",
       "    <tr>\n",
       "      <th>2</th>\n",
       "      <td>0.400583</td>\n",
       "      <td>1.759689</td>\n",
       "      <td>-0.026857</td>\n",
       "      <td>1.466006</td>\n",
       "      <td>-0.408692</td>\n",
       "      <td>0.703607</td>\n",
       "      <td>1.538478</td>\n",
       "      <td>-0.863460</td>\n",
       "      <td>-1.173844</td>\n",
       "      <td>0.355818</td>\n",
       "      <td>-0.355818</td>\n",
       "      <td>-0.048239</td>\n",
       "      <td>-0.088351</td>\n",
       "      <td>0.100844</td>\n",
       "      <td>0</td>\n",
       "    </tr>\n",
       "    <tr>\n",
       "      <th>3</th>\n",
       "      <td>-0.579494</td>\n",
       "      <td>0.124946</td>\n",
       "      <td>0.250066</td>\n",
       "      <td>-0.935873</td>\n",
       "      <td>1.096786</td>\n",
       "      <td>-1.421248</td>\n",
       "      <td>-0.649993</td>\n",
       "      <td>1.158131</td>\n",
       "      <td>-1.173844</td>\n",
       "      <td>0.355818</td>\n",
       "      <td>-0.355818</td>\n",
       "      <td>-0.048239</td>\n",
       "      <td>-0.088351</td>\n",
       "      <td>0.100844</td>\n",
       "      <td>0</td>\n",
       "    </tr>\n",
       "    <tr>\n",
       "      <th>4</th>\n",
       "      <td>0.400583</td>\n",
       "      <td>-0.186434</td>\n",
       "      <td>-0.026857</td>\n",
       "      <td>1.096486</td>\n",
       "      <td>-0.408692</td>\n",
       "      <td>0.703607</td>\n",
       "      <td>-0.649993</td>\n",
       "      <td>1.158131</td>\n",
       "      <td>-1.173844</td>\n",
       "      <td>0.355818</td>\n",
       "      <td>-0.355818</td>\n",
       "      <td>-0.048239</td>\n",
       "      <td>-0.088351</td>\n",
       "      <td>0.100844</td>\n",
       "      <td>0</td>\n",
       "    </tr>\n",
       "    <tr>\n",
       "      <th>...</th>\n",
       "      <td>...</td>\n",
       "      <td>...</td>\n",
       "      <td>...</td>\n",
       "      <td>...</td>\n",
       "      <td>...</td>\n",
       "      <td>...</td>\n",
       "      <td>...</td>\n",
       "      <td>...</td>\n",
       "      <td>...</td>\n",
       "      <td>...</td>\n",
       "      <td>...</td>\n",
       "      <td>...</td>\n",
       "      <td>...</td>\n",
       "      <td>...</td>\n",
       "      <td>...</td>\n",
       "    </tr>\n",
       "    <tr>\n",
       "      <th>49960</th>\n",
       "      <td>0.400583</td>\n",
       "      <td>-0.642382</td>\n",
       "      <td>-0.519164</td>\n",
       "      <td>-0.012073</td>\n",
       "      <td>1.096786</td>\n",
       "      <td>0.703607</td>\n",
       "      <td>-0.649993</td>\n",
       "      <td>1.158131</td>\n",
       "      <td>-1.107035</td>\n",
       "      <td>0.355818</td>\n",
       "      <td>-0.355818</td>\n",
       "      <td>-0.048239</td>\n",
       "      <td>-0.088351</td>\n",
       "      <td>0.100844</td>\n",
       "      <td>0</td>\n",
       "    </tr>\n",
       "    <tr>\n",
       "      <th>49961</th>\n",
       "      <td>-0.579494</td>\n",
       "      <td>0.291756</td>\n",
       "      <td>-0.519164</td>\n",
       "      <td>-0.935873</td>\n",
       "      <td>1.598612</td>\n",
       "      <td>-1.421248</td>\n",
       "      <td>-0.649993</td>\n",
       "      <td>-0.863460</td>\n",
       "      <td>-1.107035</td>\n",
       "      <td>0.355818</td>\n",
       "      <td>-0.355818</td>\n",
       "      <td>-0.048239</td>\n",
       "      <td>-0.088351</td>\n",
       "      <td>0.100844</td>\n",
       "      <td>0</td>\n",
       "    </tr>\n",
       "    <tr>\n",
       "      <th>49962</th>\n",
       "      <td>-0.579494</td>\n",
       "      <td>-0.675745</td>\n",
       "      <td>-0.519164</td>\n",
       "      <td>2.389806</td>\n",
       "      <td>1.096786</td>\n",
       "      <td>-1.421248</td>\n",
       "      <td>-0.649993</td>\n",
       "      <td>1.158131</td>\n",
       "      <td>-1.107035</td>\n",
       "      <td>0.355818</td>\n",
       "      <td>-0.355818</td>\n",
       "      <td>-0.048239</td>\n",
       "      <td>-0.088351</td>\n",
       "      <td>0.100844</td>\n",
       "      <td>0</td>\n",
       "    </tr>\n",
       "    <tr>\n",
       "      <th>49963</th>\n",
       "      <td>-0.579494</td>\n",
       "      <td>-0.775831</td>\n",
       "      <td>-0.519164</td>\n",
       "      <td>0.357447</td>\n",
       "      <td>-1.412345</td>\n",
       "      <td>0.703607</td>\n",
       "      <td>-0.649993</td>\n",
       "      <td>1.158131</td>\n",
       "      <td>-1.107035</td>\n",
       "      <td>0.355818</td>\n",
       "      <td>-0.355818</td>\n",
       "      <td>-0.048239</td>\n",
       "      <td>-0.088351</td>\n",
       "      <td>0.100844</td>\n",
       "      <td>0</td>\n",
       "    </tr>\n",
       "    <tr>\n",
       "      <th>49964</th>\n",
       "      <td>-0.579494</td>\n",
       "      <td>-0.731348</td>\n",
       "      <td>-0.519164</td>\n",
       "      <td>0.172687</td>\n",
       "      <td>0.093134</td>\n",
       "      <td>-1.421248</td>\n",
       "      <td>1.538478</td>\n",
       "      <td>-0.863460</td>\n",
       "      <td>-1.107035</td>\n",
       "      <td>0.355818</td>\n",
       "      <td>-0.355818</td>\n",
       "      <td>-0.048239</td>\n",
       "      <td>-0.088351</td>\n",
       "      <td>0.100844</td>\n",
       "      <td>0</td>\n",
       "    </tr>\n",
       "  </tbody>\n",
       "</table>\n",
       "<p>49965 rows × 15 columns</p>\n",
       "</div>"
      ],
      "text/plain": [
       "       num_passengers  purchase_lead  length_of_stay  flight_hour  flight_day  \\\n",
       "0            0.400583       1.970982       -0.119164    -0.381593    1.096786   \n",
       "1           -0.579494       0.302877       -0.088395    -1.120633    1.096786   \n",
       "2            0.400583       1.759689       -0.026857     1.466006   -0.408692   \n",
       "3           -0.579494       0.124946        0.250066    -0.935873    1.096786   \n",
       "4            0.400583      -0.186434       -0.026857     1.096486   -0.408692   \n",
       "...               ...            ...             ...          ...         ...   \n",
       "49960        0.400583      -0.642382       -0.519164    -0.012073    1.096786   \n",
       "49961       -0.579494       0.291756       -0.519164    -0.935873    1.598612   \n",
       "49962       -0.579494      -0.675745       -0.519164     2.389806    1.096786   \n",
       "49963       -0.579494      -0.775831       -0.519164     0.357447   -1.412345   \n",
       "49964       -0.579494      -0.731348       -0.519164     0.172687    0.093134   \n",
       "\n",
       "       wants_extra_baggage  wants_preferred_seat  wants_in_flight_meals  \\\n",
       "0                 0.703607             -0.649993              -0.863460   \n",
       "1                -1.421248             -0.649993              -0.863460   \n",
       "2                 0.703607              1.538478              -0.863460   \n",
       "3                -1.421248             -0.649993               1.158131   \n",
       "4                 0.703607             -0.649993               1.158131   \n",
       "...                    ...                   ...                    ...   \n",
       "49960             0.703607             -0.649993               1.158131   \n",
       "49961            -1.421248             -0.649993              -0.863460   \n",
       "49962            -1.421248             -0.649993               1.158131   \n",
       "49963             0.703607             -0.649993               1.158131   \n",
       "49964            -1.421248              1.538478              -0.863460   \n",
       "\n",
       "       flight_duration  internet    mobile  circle_trip   one_way  round_trip  \\\n",
       "0            -1.173844  0.355818 -0.355818    -0.048239 -0.088351    0.100844   \n",
       "1            -1.173844  0.355818 -0.355818    -0.048239 -0.088351    0.100844   \n",
       "2            -1.173844  0.355818 -0.355818    -0.048239 -0.088351    0.100844   \n",
       "3            -1.173844  0.355818 -0.355818    -0.048239 -0.088351    0.100844   \n",
       "4            -1.173844  0.355818 -0.355818    -0.048239 -0.088351    0.100844   \n",
       "...                ...       ...       ...          ...       ...         ...   \n",
       "49960        -1.107035  0.355818 -0.355818    -0.048239 -0.088351    0.100844   \n",
       "49961        -1.107035  0.355818 -0.355818    -0.048239 -0.088351    0.100844   \n",
       "49962        -1.107035  0.355818 -0.355818    -0.048239 -0.088351    0.100844   \n",
       "49963        -1.107035  0.355818 -0.355818    -0.048239 -0.088351    0.100844   \n",
       "49964        -1.107035  0.355818 -0.355818    -0.048239 -0.088351    0.100844   \n",
       "\n",
       "       label  \n",
       "0          0  \n",
       "1          0  \n",
       "2          0  \n",
       "3          0  \n",
       "4          0  \n",
       "...      ...  \n",
       "49960      0  \n",
       "49961      0  \n",
       "49962      0  \n",
       "49963      0  \n",
       "49964      0  \n",
       "\n",
       "[49965 rows x 15 columns]"
      ]
     },
     "execution_count": 104,
     "metadata": {},
     "output_type": "execute_result"
    }
   ],
   "source": [
    "scaled_df"
   ]
  },
  {
   "cell_type": "code",
   "execution_count": 82,
   "metadata": {},
   "outputs": [],
   "source": [
    "# split the data\n",
    "from sklearn.model_selection import train_test_split\n"
   ]
  },
  {
   "cell_type": "code",
   "execution_count": 151,
   "metadata": {},
   "outputs": [],
   "source": [
    "X = scaled_df.iloc[:, :-1]\n",
    "y = y_label\n",
    "\n",
    "X_train, X_test, y_train, y_test = train_test_split(X.to_numpy(), y.to_numpy(), test_size=0.33, random_state=42)"
   ]
  },
  {
   "cell_type": "code",
   "execution_count": 117,
   "metadata": {},
   "outputs": [],
   "source": [
    "from sklearn.ensemble import RandomForestClassifier\n",
    "from sklearn.linear_model import LogisticRegression\n",
    "from sklearn.metrics import accuracy_score, f1_score, precision_score, recall_score, confusion_matrix\n",
    "from sklearn.inspection import permutation_importance\n",
    "\n",
    "from sklearn.model_selection import GridSearchCV,  RepeatedStratifiedKFold"
   ]
  },
  {
   "cell_type": "code",
   "execution_count": 118,
   "metadata": {},
   "outputs": [],
   "source": [
    "\"\"\"\n",
    "    Create functions to fit and predict the values of whether customer would complete the booking.\n",
    "    and functions with metrics to evaluate the model prediction.\n",
    "\n",
    "\"\"\"\n",
    "\n",
    "def model_fit_predict(model, X, y, X_predict):\n",
    "    model.fit(X, y)\n",
    "    return model.predict(X_predict)\n",
    "\n",
    "def acc_score(y_true, y_pred):\n",
    "    return accuracy_score(y_true, y_pred)\n",
    "\n",
    "def pre_score(y_true, y_pred):\n",
    "    return precision_score(y_true, y_pred)\n",
    "\n",
    "def f_score(y_true, y_pred):\n",
    "    return f1_score(y_true, y_pred)"
   ]
  },
  {
   "cell_type": "code",
   "execution_count": 152,
   "metadata": {},
   "outputs": [],
   "source": [
    "#  Random Forest Classifier\n",
    "rfc = RandomForestClassifier(max_depth=50, min_samples_split=5, random_state=1)\n"
   ]
  },
  {
   "cell_type": "code",
   "execution_count": 153,
   "metadata": {},
   "outputs": [],
   "source": [
    "model_predict = model_fit_predict(rfc, X_train, y_train, X_train)"
   ]
  },
  {
   "cell_type": "code",
   "execution_count": 154,
   "metadata": {},
   "outputs": [
    {
     "name": "stdout",
     "output_type": "stream",
     "text": [
      "f1 score: 0.72, Accuracy score: 0.93, Precision: 1.0\n"
     ]
    }
   ],
   "source": [
    "#f1 score for training data\n",
    "f1 = round(f1_score(y_train, model_predict),2) \n",
    "\n",
    "#accuracy score for training data\n",
    "acc = round(accuracy_score(y_train, model_predict),2) \n",
    "\n",
    "#precision score for training data\n",
    "pre = round(precision_score(y_train, model_predict),2)\n",
    "\n",
    "print(f\"f1 score: {f1}, Accuracy score: {acc}, Precision: {pre}\")"
   ]
  },
  {
   "cell_type": "code",
   "execution_count": 155,
   "metadata": {},
   "outputs": [
    {
     "data": {
      "text/plain": [
       "array([[28522,     2],\n",
       "       [ 2193,  2759]], dtype=int64)"
      ]
     },
     "execution_count": 155,
     "metadata": {},
     "output_type": "execute_result"
    }
   ],
   "source": [
    "confusion_matrix(y_train, model_predict)"
   ]
  },
  {
   "cell_type": "code",
   "execution_count": 156,
   "metadata": {},
   "outputs": [
    {
     "data": {
      "text/plain": [
       "<Axes: >"
      ]
     },
     "execution_count": 156,
     "metadata": {},
     "output_type": "execute_result"
    },
    {
     "data": {
      "image/png": "[encoded data removed]",
      "text/plain": [
       "<Figure size 400x400 with 2 Axes>"
      ]
     },
     "metadata": {},
     "output_type": "display_data"
    }
   ],
   "source": [
    "plt.figure(figsize=(4,4))\n",
    "sns.heatmap(confusion_matrix(y_train, model_predict))"
   ]
  },
  {
   "cell_type": "markdown",
   "metadata": {},
   "source": [
    "##### prediction for Testing data"
   ]
  },
  {
   "cell_type": "markdown",
   "metadata": {},
   "source": []
  },
  {
   "cell_type": "code",
   "execution_count": 143,
   "metadata": {},
   "outputs": [],
   "source": [
    "rfc = RandomForestClassifier(max_depth=50, min_samples_split=5, random_state=1)\n",
    "\n",
    "model_test_predict = model_fit_predict(rfc, X_test, y_test, X_test)\n"
   ]
  },
  {
   "cell_type": "code",
   "execution_count": 144,
   "metadata": {},
   "outputs": [
    {
     "name": "stdout",
     "output_type": "stream",
     "text": [
      "Test Data: \n",
      " f1 score: 0.73, Accuracy score: 0.94, Precision: 1.0\n"
     ]
    }
   ],
   "source": [
    "#f1 score for training data\n",
    "f1 = round(f1_score(y_test, model_test_predict),2) \n",
    "\n",
    "#accuracy score for training data\n",
    "acc = round(accuracy_score(y_test, model_test_predict),2) \n",
    "\n",
    "#precision score for training data\n",
    "pre = round(precision_score(y_test, model_test_predict),2)\n",
    "\n",
    "print(f\"Test Data: \\n f1 score: {f1}, Accuracy score: {acc}, Precision: {pre}\")"
   ]
  },
  {
   "cell_type": "markdown",
   "metadata": {},
   "source": [
    "Over fitting is occuring in the data, this is caused largely due to an unbalanced dataset, to deal with this, reduce the number od entries 0 to a level almost equal to 1"
   ]
  },
  {
   "cell_type": "code",
   "execution_count": 169,
   "metadata": {},
   "outputs": [
    {
     "data": {
      "text/plain": [
       "label\n",
       "0    42493\n",
       "1     7472\n",
       "Name: count, dtype: int64"
      ]
     },
     "execution_count": 169,
     "metadata": {},
     "output_type": "execute_result"
    }
   ],
   "source": [
    "scaled_df.label.value_counts()"
   ]
  },
  {
   "cell_type": "code",
   "execution_count": 168,
   "metadata": {},
   "outputs": [
    {
     "data": {
      "text/plain": [
       "Text(0.5, 0, 'random forest feature importance')"
      ]
     },
     "execution_count": 168,
     "metadata": {},
     "output_type": "execute_result"
    },
    {
     "data": {
      "image/png": "[encoded data removed]",
      "text/plain": [
       "<Figure size 800x300 with 1 Axes>"
      ]
     },
     "metadata": {},
     "output_type": "display_data"
    }
   ],
   "source": [
    "plt.figure(figsize=(8,3))\n",
    "sort_idx = rfc.feature_importances_.argsort()\n",
    "plt.barh(scaled_df.iloc[:, :-1].columns[sort_idx], rfc.feature_importances_[sort_idx])\n",
    "plt.xlabel('random forest feature importance')"
   ]
  },
  {
   "cell_type": "code",
   "execution_count": 183,
   "metadata": {},
   "outputs": [],
   "source": [
    "# create data sample with 8000 samples of target = 0\n",
    "scaled_df_0 = scaled_df[scaled_df.label == 0].sample(n=8000)\n",
    "\n",
    "# join the two data sets into a dataframe\n",
    "scaled_df_new =pd.concat([scaled_df[scaled_df['label']== 1], scaled_df_0], ignore_index=True)"
   ]
  },
  {
   "cell_type": "code",
   "execution_count": 187,
   "metadata": {},
   "outputs": [],
   "source": [
    "scaled_df_new = scaled_df_new.sample(frac = 1).reset_index(drop=True)"
   ]
  },
  {
   "cell_type": "code",
   "execution_count": 198,
   "metadata": {},
   "outputs": [],
   "source": [
    "rfc = RandomForestClassifier(n_estimators=50,max_depth=50, min_samples_split=5, random_state=1)\n",
    "X = scaled_df_new.iloc[:, :-1]\n",
    "y= scaled_df_new.label\n",
    "\n",
    "X_train, X_test, y_train, y_test = train_test_split(X.to_numpy(), y.to_numpy(), test_size=0.33, random_state=42)"
   ]
  },
  {
   "cell_type": "code",
   "execution_count": 199,
   "metadata": {},
   "outputs": [],
   "source": [
    "model_predict_new = model_fit_predict(rfc, X_train, y_train, X_test)\n"
   ]
  },
  {
   "cell_type": "code",
   "execution_count": 200,
   "metadata": {},
   "outputs": [
    {
     "name": "stdout",
     "output_type": "stream",
     "text": [
      "Test Data: \n",
      " f1 score: 0.6, Accuracy score: 0.61, Precision: 0.6\n"
     ]
    }
   ],
   "source": [
    "#f1 score for training data\n",
    "f1 = round(f1_score(y_test, model_predict_new),2) \n",
    "\n",
    "#accuracy score for training data\n",
    "acc = round(accuracy_score(y_test, model_predict_new),2) \n",
    "\n",
    "#precision score for training data\n",
    "pre = round(precision_score(y_test, model_predict_new),2)\n",
    "\n",
    "print(f\"Test Data: \\n f1 score: {f1}, Accuracy score: {acc}, Precision: {pre}\")"
   ]
  },
  {
   "cell_type": "code",
   "execution_count": 201,
   "metadata": {},
   "outputs": [],
   "source": [
    "from sklearn.metrics import roc_auc_score"
   ]
  },
  {
   "cell_type": "code",
   "execution_count": 203,
   "metadata": {},
   "outputs": [
    {
     "data": {
      "text/plain": [
       "0.6140510678281043"
      ]
     },
     "execution_count": 203,
     "metadata": {},
     "output_type": "execute_result"
    }
   ],
   "source": [
    "roc_score = roc_auc_score(y_test, model_predict_new)"
   ]
  },
  {
   "cell_type": "markdown",
   "metadata": {},
   "source": [
    "Xgboost can be used to fine tune the model and improve the roc_auc score"
   ]
  },
  {
   "cell_type": "code",
   "execution_count": null,
   "metadata": {},
   "outputs": [],
   "source": []
  },
  {
   "cell_type": "code",
   "execution_count": null,
   "metadata": {},
   "outputs": [],
   "source": []
  },
  {
   "cell_type": "code",
   "execution_count": null,
   "metadata": {},
   "outputs": [],
   "source": []
  },
  {
   "cell_type": "code",
   "execution_count": null,
   "metadata": {},
   "outputs": [],
   "source": [
    "# count the longest list in the dataset\n",
    "\n",
    "def longest_list(lst_of_lsts):\n",
    "    max_len = 0\n",
    "    longest_lst = None\n",
    "    for lst in lst_of_lsts:\n",
    "        if len(lst) > max_len:\n",
    "            max_len = len(lst)\n",
    "            # longest_lst = lst\n",
    "    return max_len"
   ]
  },
  {
   "cell_type": "code",
   "execution_count": null,
   "metadata": {},
   "outputs": [],
   "source": []
  }
 ],
 "metadata": {
  "kernelspec": {
   "display_name": ".venv",
   "language": "python",
   "name": "python3"
  },
  "language_info": {
   "codemirror_mode": {
    "name": "ipython",
    "version": 3
   },
   "file_extension": ".py",
   "mimetype": "text/x-python",
   "name": "python",
   "nbconvert_exporter": "python",
   "pygments_lexer": "ipython3",
   "version": "3.9.6"
  },
  "orig_nbformat": 4
 },
 "nbformat": 4,
 "nbformat_minor": 2
}
