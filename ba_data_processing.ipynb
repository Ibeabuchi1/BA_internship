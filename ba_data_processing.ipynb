{
 "cells": [
  {
   "cell_type": "code",
   "execution_count": 1,
   "metadata": {},
   "outputs": [],
   "source": [
    "import pandas as pd\n"
   ]
  },
  {
   "cell_type": "code",
   "execution_count": 2,
   "metadata": {},
   "outputs": [],
   "source": [
    "df = pd.read_csv('ba_reviews.csv')"
   ]
  },
  {
   "cell_type": "code",
   "execution_count": 3,
   "metadata": {},
   "outputs": [
    {
     "data": {
      "text/html": [
       "<div>\n",
       "<style scoped>\n",
       "    .dataframe tbody tr th:only-of-type {\n",
       "        vertical-align: middle;\n",
       "    }\n",
       "\n",
       "    .dataframe tbody tr th {\n",
       "        vertical-align: top;\n",
       "    }\n",
       "\n",
       "    .dataframe thead th {\n",
       "        text-align: right;\n",
       "    }\n",
       "</style>\n",
       "<table border=\"1\" class=\"dataframe\">\n",
       "  <thead>\n",
       "    <tr style=\"text-align: right;\">\n",
       "      <th></th>\n",
       "      <th>Unnamed: 0</th>\n",
       "      <th>reviews</th>\n",
       "      <th>country</th>\n",
       "      <th>date</th>\n",
       "      <th>stars</th>\n",
       "    </tr>\n",
       "  </thead>\n",
       "  <tbody>\n",
       "    <tr>\n",
       "      <th>0</th>\n",
       "      <td>0</td>\n",
       "      <td>✅ Trip Verified |  Easy check in a T5. Galleri...</td>\n",
       "      <td>United Kingdom</td>\n",
       "      <td>13th August 2023</td>\n",
       "      <td>8.0</td>\n",
       "    </tr>\n",
       "    <tr>\n",
       "      <th>1</th>\n",
       "      <td>1</td>\n",
       "      <td>Not Verified |  Flight delayed by an hour, it ...</td>\n",
       "      <td>United States</td>\n",
       "      <td>12th August 2023</td>\n",
       "      <td>2.0</td>\n",
       "    </tr>\n",
       "    <tr>\n",
       "      <th>2</th>\n",
       "      <td>2</td>\n",
       "      <td>Not Verified | The staff are very rude and not...</td>\n",
       "      <td>United Kingdom</td>\n",
       "      <td>11th August 2023</td>\n",
       "      <td>2.0</td>\n",
       "    </tr>\n",
       "    <tr>\n",
       "      <th>3</th>\n",
       "      <td>3</td>\n",
       "      <td>✅ Trip Verified |  Good domestic flight operat...</td>\n",
       "      <td>United Kingdom</td>\n",
       "      <td>8th August 2023</td>\n",
       "      <td>10.0</td>\n",
       "    </tr>\n",
       "    <tr>\n",
       "      <th>4</th>\n",
       "      <td>4</td>\n",
       "      <td>Not Verified | Failed at all basic travel fund...</td>\n",
       "      <td>Canada</td>\n",
       "      <td>8th August 2023</td>\n",
       "      <td>1.0</td>\n",
       "    </tr>\n",
       "  </tbody>\n",
       "</table>\n",
       "</div>"
      ],
      "text/plain": [
       "   Unnamed: 0                                            reviews  \\\n",
       "0           0  ✅ Trip Verified |  Easy check in a T5. Galleri...   \n",
       "1           1  Not Verified |  Flight delayed by an hour, it ...   \n",
       "2           2  Not Verified | The staff are very rude and not...   \n",
       "3           3  ✅ Trip Verified |  Good domestic flight operat...   \n",
       "4           4  Not Verified | Failed at all basic travel fund...   \n",
       "\n",
       "          country              date  stars  \n",
       "0  United Kingdom  13th August 2023    8.0  \n",
       "1   United States  12th August 2023    2.0  \n",
       "2  United Kingdom  11th August 2023    2.0  \n",
       "3  United Kingdom   8th August 2023   10.0  \n",
       "4          Canada   8th August 2023    1.0  "
      ]
     },
     "execution_count": 3,
     "metadata": {},
     "output_type": "execute_result"
    }
   ],
   "source": [
    "df.head()"
   ]
  },
  {
   "cell_type": "code",
   "execution_count": 14,
   "metadata": {},
   "outputs": [
    {
     "data": {
      "text/plain": [
       "(3600, 5)"
      ]
     },
     "execution_count": 14,
     "metadata": {},
     "output_type": "execute_result"
    }
   ],
   "source": [
    "df.shape"
   ]
  },
  {
   "cell_type": "code",
   "execution_count": 4,
   "metadata": {},
   "outputs": [
    {
     "data": {
      "text/plain": [
       "Unnamed: 0    0\n",
       "reviews       0\n",
       "country       2\n",
       "date          0\n",
       "stars         5\n",
       "dtype: int64"
      ]
     },
     "execution_count": 4,
     "metadata": {},
     "output_type": "execute_result"
    }
   ],
   "source": [
    "df.isnull().sum()"
   ]
  },
  {
   "cell_type": "code",
   "execution_count": 4,
   "metadata": {},
   "outputs": [
    {
     "data": {
      "text/html": [
       "<div>\n",
       "<style scoped>\n",
       "    .dataframe tbody tr th:only-of-type {\n",
       "        vertical-align: middle;\n",
       "    }\n",
       "\n",
       "    .dataframe tbody tr th {\n",
       "        vertical-align: top;\n",
       "    }\n",
       "\n",
       "    .dataframe thead th {\n",
       "        text-align: right;\n",
       "    }\n",
       "</style>\n",
       "<table border=\"1\" class=\"dataframe\">\n",
       "  <thead>\n",
       "    <tr style=\"text-align: right;\">\n",
       "      <th></th>\n",
       "      <th>reviews</th>\n",
       "      <th>country</th>\n",
       "      <th>date</th>\n",
       "      <th>stars</th>\n",
       "    </tr>\n",
       "  </thead>\n",
       "  <tbody>\n",
       "    <tr>\n",
       "      <th>0</th>\n",
       "      <td>✅ Trip Verified |  Easy check in a T5. Galleri...</td>\n",
       "      <td>United Kingdom</td>\n",
       "      <td>13th August 2023</td>\n",
       "      <td>8.0</td>\n",
       "    </tr>\n",
       "    <tr>\n",
       "      <th>1</th>\n",
       "      <td>Not Verified |  Flight delayed by an hour, it ...</td>\n",
       "      <td>United States</td>\n",
       "      <td>12th August 2023</td>\n",
       "      <td>2.0</td>\n",
       "    </tr>\n",
       "    <tr>\n",
       "      <th>2</th>\n",
       "      <td>Not Verified | The staff are very rude and not...</td>\n",
       "      <td>United Kingdom</td>\n",
       "      <td>11th August 2023</td>\n",
       "      <td>2.0</td>\n",
       "    </tr>\n",
       "    <tr>\n",
       "      <th>3</th>\n",
       "      <td>✅ Trip Verified |  Good domestic flight operat...</td>\n",
       "      <td>United Kingdom</td>\n",
       "      <td>8th August 2023</td>\n",
       "      <td>10.0</td>\n",
       "    </tr>\n",
       "    <tr>\n",
       "      <th>4</th>\n",
       "      <td>Not Verified | Failed at all basic travel fund...</td>\n",
       "      <td>Canada</td>\n",
       "      <td>8th August 2023</td>\n",
       "      <td>1.0</td>\n",
       "    </tr>\n",
       "    <tr>\n",
       "      <th>...</th>\n",
       "      <td>...</td>\n",
       "      <td>...</td>\n",
       "      <td>...</td>\n",
       "      <td>...</td>\n",
       "    </tr>\n",
       "    <tr>\n",
       "      <th>3588</th>\n",
       "      <td>Caught a connection from Gatwick to Jersey and...</td>\n",
       "      <td>Australia</td>\n",
       "      <td>10th May 2014</td>\n",
       "      <td>9.0</td>\n",
       "    </tr>\n",
       "    <tr>\n",
       "      <th>3589</th>\n",
       "      <td>I have just been reviewing all the reviews on ...</td>\n",
       "      <td>United Kingdom</td>\n",
       "      <td>10th May 2014</td>\n",
       "      <td>2.0</td>\n",
       "    </tr>\n",
       "    <tr>\n",
       "      <th>3590</th>\n",
       "      <td>I flew Singapore to Sydney with them recently ...</td>\n",
       "      <td>Australia</td>\n",
       "      <td>8th May 2014</td>\n",
       "      <td>2.0</td>\n",
       "    </tr>\n",
       "    <tr>\n",
       "      <th>3591</th>\n",
       "      <td>Lanzarote to Gatwick on 13th April. Flight its...</td>\n",
       "      <td>United Kingdom</td>\n",
       "      <td>7th May 2014</td>\n",
       "      <td>1.0</td>\n",
       "    </tr>\n",
       "    <tr>\n",
       "      <th>3592</th>\n",
       "      <td>LGW-VRN-LGW both in Club Europe. Was offered a...</td>\n",
       "      <td>United Kingdom</td>\n",
       "      <td>7th May 2014</td>\n",
       "      <td>7.0</td>\n",
       "    </tr>\n",
       "  </tbody>\n",
       "</table>\n",
       "<p>3593 rows × 4 columns</p>\n",
       "</div>"
      ],
      "text/plain": [
       "                                                reviews         country  \\\n",
       "0     ✅ Trip Verified |  Easy check in a T5. Galleri...  United Kingdom   \n",
       "1     Not Verified |  Flight delayed by an hour, it ...   United States   \n",
       "2     Not Verified | The staff are very rude and not...  United Kingdom   \n",
       "3     ✅ Trip Verified |  Good domestic flight operat...  United Kingdom   \n",
       "4     Not Verified | Failed at all basic travel fund...          Canada   \n",
       "...                                                 ...             ...   \n",
       "3588  Caught a connection from Gatwick to Jersey and...       Australia   \n",
       "3589  I have just been reviewing all the reviews on ...  United Kingdom   \n",
       "3590  I flew Singapore to Sydney with them recently ...       Australia   \n",
       "3591  Lanzarote to Gatwick on 13th April. Flight its...  United Kingdom   \n",
       "3592  LGW-VRN-LGW both in Club Europe. Was offered a...  United Kingdom   \n",
       "\n",
       "                  date  stars  \n",
       "0     13th August 2023    8.0  \n",
       "1     12th August 2023    2.0  \n",
       "2     11th August 2023    2.0  \n",
       "3      8th August 2023   10.0  \n",
       "4      8th August 2023    1.0  \n",
       "...                ...    ...  \n",
       "3588     10th May 2014    9.0  \n",
       "3589     10th May 2014    2.0  \n",
       "3590      8th May 2014    2.0  \n",
       "3591      7th May 2014    1.0  \n",
       "3592      7th May 2014    7.0  \n",
       "\n",
       "[3593 rows x 4 columns]"
      ]
     },
     "execution_count": 4,
     "metadata": {},
     "output_type": "execute_result"
    }
   ],
   "source": [
    "# drop null values\n",
    "\n",
    "df = df.dropna(axis=0)\n",
    "del df['Unnamed: 0']\n",
    "df.reset_index(drop=True)"
   ]
  },
  {
   "cell_type": "code",
   "execution_count": 6,
   "metadata": {},
   "outputs": [],
   "source": [
    "cols = ['reviews', 'country']"
   ]
  },
  {
   "cell_type": "code",
   "execution_count": 7,
   "metadata": {},
   "outputs": [],
   "source": [
    "# lower all texts in df\n",
    "for i in cols:\n",
    "    df[i] = df[i].str.lower()\n",
    "\n",
    "# df.reviews = [i.lower() for i in df.reviews]"
   ]
  },
  {
   "cell_type": "code",
   "execution_count": 8,
   "metadata": {},
   "outputs": [],
   "source": [
    "df['verified'] = df.reviews.str.contains('trip verified')"
   ]
  },
  {
   "cell_type": "code",
   "execution_count": 9,
   "metadata": {},
   "outputs": [],
   "source": [
    "#convert to date format\n",
    "df['date'] = pd.to_datetime(df['date'], format='mixed')"
   ]
  },
  {
   "cell_type": "code",
   "execution_count": 10,
   "metadata": {},
   "outputs": [
    {
     "data": {
      "text/html": [
       "<div>\n",
       "<style scoped>\n",
       "    .dataframe tbody tr th:only-of-type {\n",
       "        vertical-align: middle;\n",
       "    }\n",
       "\n",
       "    .dataframe tbody tr th {\n",
       "        vertical-align: top;\n",
       "    }\n",
       "\n",
       "    .dataframe thead th {\n",
       "        text-align: right;\n",
       "    }\n",
       "</style>\n",
       "<table border=\"1\" class=\"dataframe\">\n",
       "  <thead>\n",
       "    <tr style=\"text-align: right;\">\n",
       "      <th></th>\n",
       "      <th>reviews</th>\n",
       "      <th>country</th>\n",
       "      <th>date</th>\n",
       "      <th>stars</th>\n",
       "      <th>verified</th>\n",
       "    </tr>\n",
       "  </thead>\n",
       "  <tbody>\n",
       "    <tr>\n",
       "      <th>0</th>\n",
       "      <td>✅ trip verified |  easy check in a t5. galleri...</td>\n",
       "      <td>united kingdom</td>\n",
       "      <td>2023-08-13</td>\n",
       "      <td>8.0</td>\n",
       "      <td>True</td>\n",
       "    </tr>\n",
       "    <tr>\n",
       "      <th>1</th>\n",
       "      <td>not verified |  flight delayed by an hour, it ...</td>\n",
       "      <td>united states</td>\n",
       "      <td>2023-08-12</td>\n",
       "      <td>2.0</td>\n",
       "      <td>False</td>\n",
       "    </tr>\n",
       "    <tr>\n",
       "      <th>2</th>\n",
       "      <td>not verified | the staff are very rude and not...</td>\n",
       "      <td>united kingdom</td>\n",
       "      <td>2023-08-11</td>\n",
       "      <td>2.0</td>\n",
       "      <td>False</td>\n",
       "    </tr>\n",
       "    <tr>\n",
       "      <th>3</th>\n",
       "      <td>✅ trip verified |  good domestic flight operat...</td>\n",
       "      <td>united kingdom</td>\n",
       "      <td>2023-08-08</td>\n",
       "      <td>10.0</td>\n",
       "      <td>True</td>\n",
       "    </tr>\n",
       "    <tr>\n",
       "      <th>4</th>\n",
       "      <td>not verified | failed at all basic travel fund...</td>\n",
       "      <td>canada</td>\n",
       "      <td>2023-08-08</td>\n",
       "      <td>1.0</td>\n",
       "      <td>False</td>\n",
       "    </tr>\n",
       "  </tbody>\n",
       "</table>\n",
       "</div>"
      ],
      "text/plain": [
       "                                             reviews         country  \\\n",
       "0  ✅ trip verified |  easy check in a t5. galleri...  united kingdom   \n",
       "1  not verified |  flight delayed by an hour, it ...   united states   \n",
       "2  not verified | the staff are very rude and not...  united kingdom   \n",
       "3  ✅ trip verified |  good domestic flight operat...  united kingdom   \n",
       "4  not verified | failed at all basic travel fund...          canada   \n",
       "\n",
       "        date  stars  verified  \n",
       "0 2023-08-13    8.0      True  \n",
       "1 2023-08-12    2.0     False  \n",
       "2 2023-08-11    2.0     False  \n",
       "3 2023-08-08   10.0      True  \n",
       "4 2023-08-08    1.0     False  "
      ]
     },
     "execution_count": 10,
     "metadata": {},
     "output_type": "execute_result"
    }
   ],
   "source": [
    "df.head()"
   ]
  },
  {
   "cell_type": "code",
   "execution_count": 11,
   "metadata": {},
   "outputs": [],
   "source": [
    "import nltk\n",
    "import re\n",
    "\n",
    "from nltk.stem import WordNetLemmatizer\n",
    "from nltk.corpus import stopwords"
   ]
  },
  {
   "cell_type": "code",
   "execution_count": 54,
   "metadata": {},
   "outputs": [
    {
     "name": "stderr",
     "output_type": "stream",
     "text": [
      "[nltk_data] Downloading package stopwords to C:\\Users\\ACER-\n",
      "[nltk_data]     PC\\AppData\\Roaming\\nltk_data...\n",
      "[nltk_data]   Package stopwords is already up-to-date!\n",
      "[nltk_data] Downloading package punkt to C:\\Users\\ACER-\n",
      "[nltk_data]     PC\\AppData\\Roaming\\nltk_data...\n",
      "[nltk_data]   Package punkt is already up-to-date!\n"
     ]
    },
    {
     "data": {
      "text/plain": [
       "True"
      ]
     },
     "execution_count": 54,
     "metadata": {},
     "output_type": "execute_result"
    }
   ],
   "source": [
    "nltk.download('stopwords')\n",
    "nltk.download('punkt')"
   ]
  },
  {
   "cell_type": "code",
   "execution_count": 12,
   "metadata": {},
   "outputs": [],
   "source": [
    "wnl = WordNetLemmatizer()"
   ]
  },
  {
   "cell_type": "code",
   "execution_count": 57,
   "metadata": {},
   "outputs": [],
   "source": [
    "review_data = df.reviews\n",
    "review_data = review_data.str.strip('✅ trip verified ')\n",
    "review_data = review_data.str.strip('not verified ')\n"
   ]
  },
  {
   "cell_type": "code",
   "execution_count": 62,
   "metadata": {},
   "outputs": [],
   "source": [
    "corpus = []\n",
    "# lemmatization\n",
    "for i in review_data:\n",
    "    review = re.sub('[^a-zA-Z]', ' ', i)\n",
    "    review = review.lower()\n",
    "    review = review.split()\n",
    "    \n",
    "    review = [wnl.lemmatize(word) for word in review if word not in set(stopwords.words('english'))]\n",
    "    review = ' '.join(review)\n",
    "    corpus.append(review)"
   ]
  },
  {
   "cell_type": "code",
   "execution_count": 64,
   "metadata": {},
   "outputs": [],
   "source": [
    "df['corpus'] = corpus"
   ]
  },
  {
   "cell_type": "code",
   "execution_count": 65,
   "metadata": {},
   "outputs": [
    {
     "data": {
      "text/html": [
       "<div>\n",
       "<style scoped>\n",
       "    .dataframe tbody tr th:only-of-type {\n",
       "        vertical-align: middle;\n",
       "    }\n",
       "\n",
       "    .dataframe tbody tr th {\n",
       "        vertical-align: top;\n",
       "    }\n",
       "\n",
       "    .dataframe thead th {\n",
       "        text-align: right;\n",
       "    }\n",
       "</style>\n",
       "<table border=\"1\" class=\"dataframe\">\n",
       "  <thead>\n",
       "    <tr style=\"text-align: right;\">\n",
       "      <th></th>\n",
       "      <th>reviews</th>\n",
       "      <th>country</th>\n",
       "      <th>date</th>\n",
       "      <th>stars</th>\n",
       "      <th>verified</th>\n",
       "      <th>corpus</th>\n",
       "    </tr>\n",
       "  </thead>\n",
       "  <tbody>\n",
       "    <tr>\n",
       "      <th>0</th>\n",
       "      <td>✅ trip verified |  easy check in a t5. galleri...</td>\n",
       "      <td>united kingdom</td>\n",
       "      <td>2023-08-13</td>\n",
       "      <td>8.0</td>\n",
       "      <td>True</td>\n",
       "      <td>easy check gallery south north lounge packed a...</td>\n",
       "    </tr>\n",
       "    <tr>\n",
       "      <th>1</th>\n",
       "      <td>not verified |  flight delayed by an hour, it ...</td>\n",
       "      <td>united states</td>\n",
       "      <td>2023-08-12</td>\n",
       "      <td>2.0</td>\n",
       "      <td>False</td>\n",
       "      <td>flight delayed hour happens biggie u change ga...</td>\n",
       "    </tr>\n",
       "    <tr>\n",
       "      <th>2</th>\n",
       "      <td>not verified | the staff are very rude and not...</td>\n",
       "      <td>united kingdom</td>\n",
       "      <td>2023-08-11</td>\n",
       "      <td>2.0</td>\n",
       "      <td>False</td>\n",
       "      <td>staff rude trained properly exception made chi...</td>\n",
       "    </tr>\n",
       "    <tr>\n",
       "      <th>3</th>\n",
       "      <td>✅ trip verified |  good domestic flight operat...</td>\n",
       "      <td>united kingdom</td>\n",
       "      <td>2023-08-08</td>\n",
       "      <td>10.0</td>\n",
       "      <td>True</td>\n",
       "      <td>good domestic flight operated ba cityflyer gro...</td>\n",
       "    </tr>\n",
       "    <tr>\n",
       "      <th>4</th>\n",
       "      <td>not verified | failed at all basic travel fund...</td>\n",
       "      <td>canada</td>\n",
       "      <td>2023-08-08</td>\n",
       "      <td>1.0</td>\n",
       "      <td>False</td>\n",
       "      <td>failed basic travel fundamental flight delayed...</td>\n",
       "    </tr>\n",
       "  </tbody>\n",
       "</table>\n",
       "</div>"
      ],
      "text/plain": [
       "                                             reviews         country  \\\n",
       "0  ✅ trip verified |  easy check in a t5. galleri...  united kingdom   \n",
       "1  not verified |  flight delayed by an hour, it ...   united states   \n",
       "2  not verified | the staff are very rude and not...  united kingdom   \n",
       "3  ✅ trip verified |  good domestic flight operat...  united kingdom   \n",
       "4  not verified | failed at all basic travel fund...          canada   \n",
       "\n",
       "        date  stars  verified  \\\n",
       "0 2023-08-13    8.0      True   \n",
       "1 2023-08-12    2.0     False   \n",
       "2 2023-08-11    2.0     False   \n",
       "3 2023-08-08   10.0      True   \n",
       "4 2023-08-08    1.0     False   \n",
       "\n",
       "                                              corpus  \n",
       "0  easy check gallery south north lounge packed a...  \n",
       "1  flight delayed hour happens biggie u change ga...  \n",
       "2  staff rude trained properly exception made chi...  \n",
       "3  good domestic flight operated ba cityflyer gro...  \n",
       "4  failed basic travel fundamental flight delayed...  "
      ]
     },
     "execution_count": 65,
     "metadata": {},
     "output_type": "execute_result"
    }
   ],
   "source": [
    "df.head()"
   ]
  },
  {
   "cell_type": "code",
   "execution_count": 66,
   "metadata": {},
   "outputs": [
    {
     "data": {
      "text/plain": [
       "reviews  country  date   stars  verified  corpus\n",
       "False    False    False  False  False     False     3593\n",
       "Name: count, dtype: int64"
      ]
     },
     "execution_count": 66,
     "metadata": {},
     "output_type": "execute_result"
    }
   ],
   "source": [
    "df.isnull().value_counts()"
   ]
  },
  {
   "cell_type": "code",
   "execution_count": 68,
   "metadata": {},
   "outputs": [],
   "source": [
    "df.to_csv('cleaned_ba_data.csv')"
   ]
  },
  {
   "cell_type": "code",
   "execution_count": null,
   "metadata": {},
   "outputs": [],
   "source": []
  },
  {
   "cell_type": "code",
   "execution_count": null,
   "metadata": {},
   "outputs": [],
   "source": []
  },
  {
   "cell_type": "code",
   "execution_count": null,
   "metadata": {},
   "outputs": [],
   "source": []
  }
 ],
 "metadata": {
  "kernelspec": {
   "display_name": ".venv",
   "language": "python",
   "name": "python3"
  },
  "language_info": {
   "codemirror_mode": {
    "name": "ipython",
    "version": 3
   },
   "file_extension": ".py",
   "mimetype": "text/x-python",
   "name": "python",
   "nbconvert_exporter": "python",
   "pygments_lexer": "ipython3",
   "version": "3.9.6"
  },
  "orig_nbformat": 4
 },
 "nbformat": 4,
 "nbformat_minor": 2
}
