{
 "cells": [
  {
   "cell_type": "code",
   "execution_count": 1,
   "metadata": {},
   "outputs": [],
   "source": [
    "import nltk\n",
    "import re\n",
    "\n",
    "from nltk.stem import PorterStemmer\n",
    "from nltk.stem import WordNetLemmatizer\n",
    "from nltk.corpus import stopwords\n",
    "from sklearn.feature_extraction.text import CountVectorizer"
   ]
  },
  {
   "cell_type": "code",
   "execution_count": 2,
   "metadata": {},
   "outputs": [],
   "source": [
    "paragraph = \"\"\"\n",
    "Chief Bola Ahmed Adekunle Tinubu GCFR (born 29 March 1952) is a Nigerian politician who is the 16th and current president of Nigeria.[1] He was the governor of Lagos State from 1999 to 2007; and senator for Lagos West in the Third Republic.\n",
    "\n",
    "Tinubu spent his early life in southwestern Nigeria and later moved to the United States where he studied accounting at Chicago State University. He returned to Nigeria in the early 1990s and was employed by Mobil Nigeria as an accountant, before entering politics as a Lagos West senatorial candidate in 1992 under the banner of the Social Democratic Party. After dictator Sani Abacha dissolved the Senate in 1993, Tinubu became an activist campaigning for the return of democracy as a part of the National Democratic Coalition movement.\n",
    "\n",
    "In the first post-transition Lagos State gubernatorial election, Tinubu won by a wide margin as a member of the Alliance for Democracy. Four years later, he won re-election to a second term. After leaving office in 2007, he played a key role in the formation of the All Progressives Congress in 2013. In 2023, he was elected president of Nigeria.\n",
    "\"\"\""
   ]
  },
  {
   "cell_type": "code",
   "execution_count": 4,
   "metadata": {},
   "outputs": [
    {
     "name": "stderr",
     "output_type": "stream",
     "text": [
      "[nltk_data] Downloading package stopwords to C:\\Users\\ACER-\n",
      "[nltk_data]     PC\\AppData\\Roaming\\nltk_data...\n",
      "[nltk_data]   Package stopwords is already up-to-date!\n",
      "[nltk_data] Downloading package punkt to C:\\Users\\ACER-\n",
      "[nltk_data]     PC\\AppData\\Roaming\\nltk_data...\n",
      "[nltk_data]   Package punkt is already up-to-date!\n"
     ]
    }
   ],
   "source": [
    "# tokenization\n",
    "nltk.download('stopwords')\n",
    "nltk.download('punkt')\n",
    "\n",
    "sentences = nltk.sent_tokenize(paragraph)"
   ]
  },
  {
   "cell_type": "code",
   "execution_count": 3,
   "metadata": {},
   "outputs": [],
   "source": [
    "stemmer = PorterStemmer()\n",
    "lemmatize = WordNetLemmatizer()\n"
   ]
  },
  {
   "cell_type": "code",
   "execution_count": 5,
   "metadata": {},
   "outputs": [],
   "source": [
    "corpus = []\n",
    "for i in range(len(sentences)):\n",
    "    review = re.sub('[^a-zA-Z]', ' ', sentences[i])\n",
    "    review=review.lower()\n",
    "    corpus.append(review)"
   ]
  },
  {
   "cell_type": "code",
   "execution_count": null,
   "metadata": {},
   "outputs": [],
   "source": [
    "# to apply stemming\n",
    "for i in corpus:\n",
    "    words = nltk.word_tokenize(i)\n",
    "    for word in words:\n",
    "        if word not in set(stopwords.words('english')):\n",
    "            print(stemmer.stem(word))"
   ]
  },
  {
   "cell_type": "code",
   "execution_count": 6,
   "metadata": {},
   "outputs": [
    {
     "name": "stderr",
     "output_type": "stream",
     "text": [
      "[nltk_data] Downloading package wordnet to C:\\Users\\ACER-\n",
      "[nltk_data]     PC\\AppData\\Roaming\\nltk_data...\n",
      "[nltk_data]   Package wordnet is already up-to-date!\n"
     ]
    },
    {
     "data": {
      "text/plain": [
       "True"
      ]
     },
     "execution_count": 6,
     "metadata": {},
     "output_type": "execute_result"
    }
   ],
   "source": [
    "stopwords.words('english')\n",
    "nltk.download('wordnet')\n"
   ]
  },
  {
   "cell_type": "code",
   "execution_count": 7,
   "metadata": {},
   "outputs": [],
   "source": [
    "# paragraph = []\n",
    "\n",
    "# for i in range(len(sentences)):\n",
    "#     review = re.sub('[^a-zA-Z]', ' ', sentences[i])\n",
    "#     review = review.lower()\n",
    "#     review = review.split()\n",
    "#     review = [lemmatize.lemmatize(word) for word in review if not word in set(stopwords.words('english'))]\n",
    "#     review = ' '.join(review) \n",
    "#     paragraph.append(review)"
   ]
  },
  {
   "cell_type": "code",
   "execution_count": null,
   "metadata": {},
   "outputs": [],
   "source": [
    "# to apply lemmatizer\n",
    "\n",
    "for i in corpus:\n",
    "    words = nltk.word_tokenize(i)\n",
    "    for word in words:\n",
    "        if word not in set(stopwords.words('english')):\n",
    "            print(lemmatize.lemmatize(word))"
   ]
  },
  {
   "cell_type": "code",
   "execution_count": 8,
   "metadata": {},
   "outputs": [
    {
     "data": {
      "text/plain": [
       "{'chief': 22,\n",
       " 'bola': 16,\n",
       " 'ahmed': 6,\n",
       " 'adekunle': 4,\n",
       " 'tinubu': 91,\n",
       " 'gcfr': 40,\n",
       " 'born': 17,\n",
       " 'march': 52,\n",
       " 'is': 46,\n",
       " 'nigerian': 60,\n",
       " 'politician': 66,\n",
       " 'who': 100,\n",
       " 'the': 89,\n",
       " 'th': 88,\n",
       " 'and': 10,\n",
       " 'current': 25,\n",
       " 'president': 69,\n",
       " 'of': 61,\n",
       " 'nigeria': 59,\n",
       " 'he': 43,\n",
       " 'was': 97,\n",
       " 'governor': 41,\n",
       " 'lagos': 48,\n",
       " 'state': 84,\n",
       " 'from': 39,\n",
       " 'to': 92,\n",
       " 'senator': 79,\n",
       " 'for': 36,\n",
       " 'west': 98,\n",
       " 'in': 45,\n",
       " 'third': 90,\n",
       " 'republic': 72,\n",
       " 'spent': 83,\n",
       " 'his': 44,\n",
       " 'early': 30,\n",
       " 'life': 51,\n",
       " 'southwestern': 82,\n",
       " 'later': 49,\n",
       " 'moved': 56,\n",
       " 'united': 95,\n",
       " 'states': 85,\n",
       " 'where': 99,\n",
       " 'studied': 86,\n",
       " 'accounting': 2,\n",
       " 'at': 12,\n",
       " 'chicago': 21,\n",
       " 'university': 96,\n",
       " 'returned': 74,\n",
       " 'employed': 33,\n",
       " 'by': 18,\n",
       " 'mobil': 55,\n",
       " 'as': 11,\n",
       " 'an': 9,\n",
       " 'accountant': 1,\n",
       " 'before': 15,\n",
       " 'entering': 34,\n",
       " 'politics': 67,\n",
       " 'senatorial': 80,\n",
       " 'candidate': 20,\n",
       " 'under': 94,\n",
       " 'banner': 13,\n",
       " 'social': 81,\n",
       " 'democratic': 27,\n",
       " 'party': 64,\n",
       " 'after': 5,\n",
       " 'dictator': 28,\n",
       " 'sani': 76,\n",
       " 'abacha': 0,\n",
       " 'dissolved': 29,\n",
       " 'senate': 78,\n",
       " 'became': 14,\n",
       " 'activist': 3,\n",
       " 'campaigning': 19,\n",
       " 'return': 73,\n",
       " 'democracy': 26,\n",
       " 'part': 63,\n",
       " 'national': 58,\n",
       " 'coalition': 23,\n",
       " 'movement': 57,\n",
       " 'first': 35,\n",
       " 'post': 68,\n",
       " 'transition': 93,\n",
       " 'gubernatorial': 42,\n",
       " 'election': 32,\n",
       " 'won': 102,\n",
       " 'wide': 101,\n",
       " 'margin': 53,\n",
       " 'member': 54,\n",
       " 'alliance': 8,\n",
       " 'four': 38,\n",
       " 'years': 103,\n",
       " 're': 71,\n",
       " 'second': 77,\n",
       " 'term': 87,\n",
       " 'leaving': 50,\n",
       " 'office': 62,\n",
       " 'played': 65,\n",
       " 'key': 47,\n",
       " 'role': 75,\n",
       " 'formation': 37,\n",
       " 'all': 7,\n",
       " 'progressives': 70,\n",
       " 'congress': 24,\n",
       " 'elected': 31}"
      ]
     },
     "execution_count": 8,
     "metadata": {},
     "output_type": "execute_result"
    }
   ],
   "source": [
    "cv = CountVectorizer(binary=True)\n",
    "X = cv.fit_transform(corpus)\n",
    "cv.vocabulary_"
   ]
  },
  {
   "cell_type": "code",
   "execution_count": 9,
   "metadata": {},
   "outputs": [
    {
     "data": {
      "text/plain": [
       "array([[0, 0, 0, 0, 1, 0, 1, 0, 0, 0, 1, 0, 0, 0, 0, 0, 1, 1, 0, 0, 0, 0,\n",
       "        1, 0, 0, 1, 0, 0, 0, 0, 0, 0, 0, 0, 0, 0, 0, 0, 0, 0, 1, 0, 0, 0,\n",
       "        0, 0, 1, 0, 0, 0, 0, 0, 1, 0, 0, 0, 0, 0, 0, 1, 1, 1, 0, 0, 0, 0,\n",
       "        1, 0, 0, 1, 0, 0, 0, 0, 0, 0, 0, 0, 0, 0, 0, 0, 0, 0, 0, 0, 0, 0,\n",
       "        1, 1, 0, 1, 0, 0, 0, 0, 0, 0, 0, 0, 1, 0, 0, 0]], dtype=int64)"
      ]
     },
     "execution_count": 9,
     "metadata": {},
     "output_type": "execute_result"
    }
   ],
   "source": [
    "X[0].toarray()"
   ]
  },
  {
   "cell_type": "code",
   "execution_count": null,
   "metadata": {},
   "outputs": [],
   "source": []
  }
 ],
 "metadata": {
  "kernelspec": {
   "display_name": "base",
   "language": "python",
   "name": "python3"
  },
  "language_info": {
   "codemirror_mode": {
    "name": "ipython",
    "version": 3
   },
   "file_extension": ".py",
   "mimetype": "text/x-python",
   "name": "python",
   "nbconvert_exporter": "python",
   "pygments_lexer": "ipython3",
   "version": "3.8.8"
  },
  "orig_nbformat": 4
 },
 "nbformat": 4,
 "nbformat_minor": 2
}
