{
 "cells": [
  {
   "cell_type": "code",
   "execution_count": 1,
   "metadata": {},
   "outputs": [],
   "source": [
    "import nltk\n",
    "import re\n",
    "\n",
    "from nltk.stem import PorterStemmer\n",
    "from nltk.stem import WordNetLemmatizer\n",
    "from nltk.corpus import stopwords\n",
    "from sklearn.feature_extraction.text import CountVectorizer"
   ]
  },
  {
   "cell_type": "code",
   "execution_count": 2,
   "metadata": {},
   "outputs": [],
   "source": [
    "paragraph = \"\"\"\n",
    "Chief Bola Ahmed Adekunle Tinubu GCFR (born 29 March 1952) is a Nigerian politician who is the 16th and current president of Nigeria.[1] He was the governor of Lagos State from 1999 to 2007; and senator for Lagos West in the Third Republic.\n",
    "\n",
    "Tinubu spent his early life in southwestern Nigeria and later moved to the United States where he studied accounting at Chicago State University. He returned to Nigeria in the early 1990s and was employed by Mobil Nigeria as an accountant, before entering politics as a Lagos West senatorial candidate in 1992 under the banner of the Social Democratic Party. After dictator Sani Abacha dissolved the Senate in 1993, Tinubu became an activist campaigning for the return of democracy as a part of the National Democratic Coalition movement.\n",
    "\n",
    "In the first post-transition Lagos State gubernatorial election, Tinubu won by a wide margin as a member of the Alliance for Democracy. Four years later, he won re-election to a second term. After leaving office in 2007, he played a key role in the formation of the All Progressives Congress in 2013. In 2023, he was elected president of Nigeria.\n",
    "\"\"\""
   ]
  },
  {
   "cell_type": "code",
   "execution_count": 4,
   "metadata": {},
   "outputs": [
    {
     "name": "stderr",
     "output_type": "stream",
     "text": [
      "[nltk_data] Downloading package stopwords to C:\\Users\\ACER-\n",
      "[nltk_data]     PC\\AppData\\Roaming\\nltk_data...\n",
      "[nltk_data]   Package stopwords is already up-to-date!\n",
      "[nltk_data] Downloading package punkt to C:\\Users\\ACER-\n",
      "[nltk_data]     PC\\AppData\\Roaming\\nltk_data...\n",
      "[nltk_data]   Package punkt is already up-to-date!\n"
     ]
    }
   ],
   "source": [
    "# tokenization\n",
    "nltk.download('stopwords')\n",
    "nltk.download('punkt')\n",
    "\n",
    "sentences = nltk.sent_tokenize(paragraph)"
   ]
  },
  {
   "cell_type": "code",
   "execution_count": 3,
   "metadata": {},
   "outputs": [],
   "source": [
    "stemmer = PorterStemmer()\n",
    "lemmatize = WordNetLemmatizer()\n"
   ]
  },
  {
   "cell_type": "code",
   "execution_count": 5,
   "metadata": {},
   "outputs": [],
   "source": [
    "corpus = []\n",
    "for i in range(len(sentences)):\n",
    "    review = re.sub('[^a-zA-Z]', ' ', sentences[i])\n",
    "    review=review.lower()\n",
    "    corpus.append(review)"
   ]
  },
  {
   "cell_type": "code",
   "execution_count": null,
   "metadata": {},
   "outputs": [],
   "source": [
    "# to apply stemming\n",
    "for i in corpus:\n",
    "    words = nltk.word_tokenize(i)\n",
    "    for word in words:\n",
    "        if word not in set(stopwords.words('english')):\n",
    "            print(stemmer.stem(word))"
   ]
  },
  {
   "cell_type": "code",
   "execution_count": 6,
   "metadata": {},
   "outputs": [
    {
     "name": "stderr",
     "output_type": "stream",
     "text": [
      "[nltk_data] Downloading package wordnet to C:\\Users\\ACER-\n",
      "[nltk_data]     PC\\AppData\\Roaming\\nltk_data...\n",
      "[nltk_data]   Package wordnet is already up-to-date!\n"
     ]
    },
    {
     "data": {
      "text/plain": [
       "True"
      ]
     },
     "execution_count": 6,
     "metadata": {},
     "output_type": "execute_result"
    }
   ],
   "source": [
    "stopwords.words('english')\n",
    "nltk.download('wordnet')\n"
   ]
  },
  {
   "cell_type": "code",
   "execution_count": 7,
   "metadata": {},
   "outputs": [],
   "source": [
    "# paragraph = []\n",
    "\n",
    "# for i in range(len(sentences)):\n",
    "#     review = re.sub('[^a-zA-Z]', ' ', sentences[i])\n",
    "#     review = review.lower()\n",
    "#     review = review.split()\n",
    "#     review = [lemmatize.lemmatize(word) for word in review if not word in set(stopwords.words('english'))]\n",
    "#     review = ' '.join(review) \n",
    "#     paragraph.append(review)"
   ]
  },
  {
   "cell_type": "code",
   "execution_count": null,
   "metadata": {},
   "outputs": [],
   "source": [
    "# to apply lemmatizer\n",
    "\n",
    "for i in corpus:\n",
    "    words = nltk.word_tokenize(i)\n",
    "    for word in words:\n",
    "        if word not in set(stopwords.words('english')):\n",
    "            print(lemmatize.lemmatize(word))"
   ]
  },
  {
   "cell_type": "code",
   "execution_count": 11,
   "metadata": {},
   "outputs": [],
   "source": [
    "# bag of words\n",
    "\n",
    "cv = CountVectorizer(binary=True, ngram_range=(3,3))"
   ]
  },
  {
   "cell_type": "code",
   "execution_count": 24,
   "metadata": {},
   "outputs": [
    {
     "data": {
      "text/plain": [
       "[('abacha dissolved the', 0),\n",
       " ('accountant before entering', 1),\n",
       " ('accounting at chicago', 2),\n",
       " ('activist campaigning for', 3),\n",
       " ('adekunle tinubu gcfr', 4),\n",
       " ('after dictator sani', 5),\n",
       " ('after leaving office', 6),\n",
       " ('ahmed adekunle tinubu', 7),\n",
       " ('all progressives congress', 8),\n",
       " ('alliance for democracy', 9),\n",
       " ('an accountant before', 10),\n",
       " ('an activist campaigning', 11),\n",
       " ('and current president', 12),\n",
       " ('and later moved', 13),\n",
       " ('and senator for', 14),\n",
       " ('and was employed', 15),\n",
       " ('as an accountant', 16),\n",
       " ('as lagos west', 17),\n",
       " ('as member of', 18),\n",
       " ('as part of', 19),\n",
       " ('at chicago state', 20),\n",
       " ('banner of the', 21),\n",
       " ('became an activist', 22),\n",
       " ('before entering politics', 23),\n",
       " ('bola ahmed adekunle', 24),\n",
       " ('born march is', 25),\n",
       " ('by mobil nigeria', 26),\n",
       " ('by wide margin', 27),\n",
       " ('campaigning for the', 28),\n",
       " ('candidate in under', 29),\n",
       " ('chicago state university', 30),\n",
       " ('chief bola ahmed', 31),\n",
       " ('current president of', 32),\n",
       " ('democracy as part', 33),\n",
       " ('democratic coalition movement', 34),\n",
       " ('dictator sani abacha', 35),\n",
       " ('dissolved the senate', 36),\n",
       " ('early and was', 37),\n",
       " ('early life in', 38),\n",
       " ('elected president of', 39),\n",
       " ('election tinubu won', 40),\n",
       " ('election to second', 41),\n",
       " ('employed by mobil', 42),\n",
       " ('entering politics as', 43),\n",
       " ('first post transition', 44),\n",
       " ('for lagos west', 45),\n",
       " ('for the return', 46),\n",
       " ('formation of the', 47),\n",
       " ('four years later', 48),\n",
       " ('from to and', 49),\n",
       " ('gcfr born march', 50),\n",
       " ('governor of lagos', 51),\n",
       " ('gubernatorial election tinubu', 52),\n",
       " ('he played key', 53),\n",
       " ('he returned to', 54),\n",
       " ('he studied accounting', 55),\n",
       " ('he was elected', 56),\n",
       " ('he was the', 57),\n",
       " ('he won re', 58),\n",
       " ('his early life', 59),\n",
       " ('in he played', 60),\n",
       " ('in he was', 61),\n",
       " ('in southwestern nigeria', 62),\n",
       " ('in the early', 63),\n",
       " ('in the first', 64),\n",
       " ('in the formation', 65),\n",
       " ('in the third', 66),\n",
       " ('in tinubu became', 67),\n",
       " ('in under the', 68),\n",
       " ('is nigerian politician', 69),\n",
       " ('is the th', 70),\n",
       " ('key role in', 71),\n",
       " ('lagos state from', 72),\n",
       " ('lagos state gubernatorial', 73),\n",
       " ('lagos west in', 74),\n",
       " ('lagos west senatorial', 75),\n",
       " ('later he won', 76),\n",
       " ('later moved to', 77),\n",
       " ('leaving office in', 78),\n",
       " ('life in southwestern', 79),\n",
       " ('march is nigerian', 80),\n",
       " ('margin as member', 81),\n",
       " ('member of the', 82),\n",
       " ('mobil nigeria as', 83),\n",
       " ('moved to the', 84),\n",
       " ('national democratic coalition', 85),\n",
       " ('nigeria and later', 86),\n",
       " ('nigeria as an', 87),\n",
       " ('nigeria in the', 88),\n",
       " ('nigerian politician who', 89),\n",
       " ('of democracy as', 90),\n",
       " ('of lagos state', 91),\n",
       " ('of the all', 92),\n",
       " ('of the alliance', 93),\n",
       " ('of the national', 94),\n",
       " ('of the social', 95),\n",
       " ('office in he', 96),\n",
       " ('part of the', 97),\n",
       " ('played key role', 98),\n",
       " ('politician who is', 99),\n",
       " ('politics as lagos', 100),\n",
       " ('post transition lagos', 101),\n",
       " ('president of nigeria', 102),\n",
       " ('progressives congress in', 103),\n",
       " ('re election to', 104),\n",
       " ('return of democracy', 105),\n",
       " ('returned to nigeria', 106),\n",
       " ('role in the', 107),\n",
       " ('sani abacha dissolved', 108),\n",
       " ('senate in tinubu', 109),\n",
       " ('senator for lagos', 110),\n",
       " ('senatorial candidate in', 111),\n",
       " ('social democratic party', 112),\n",
       " ('southwestern nigeria and', 113),\n",
       " ('spent his early', 114),\n",
       " ('state from to', 115),\n",
       " ('state gubernatorial election', 116),\n",
       " ('states where he', 117),\n",
       " ('studied accounting at', 118),\n",
       " ('th and current', 119),\n",
       " ('the all progressives', 120),\n",
       " ('the alliance for', 121),\n",
       " ('the banner of', 122),\n",
       " ('the early and', 123),\n",
       " ('the first post', 124),\n",
       " ('the formation of', 125),\n",
       " ('the governor of', 126),\n",
       " ('the national democratic', 127),\n",
       " ('the return of', 128),\n",
       " ('the senate in', 129),\n",
       " ('the social democratic', 130),\n",
       " ('the th and', 131),\n",
       " ('the third republic', 132),\n",
       " ('the united states', 133),\n",
       " ('tinubu became an', 134),\n",
       " ('tinubu gcfr born', 135),\n",
       " ('tinubu spent his', 136),\n",
       " ('tinubu won by', 137),\n",
       " ('to and senator', 138),\n",
       " ('to nigeria in', 139),\n",
       " ('to second term', 140),\n",
       " ('to the united', 141),\n",
       " ('transition lagos state', 142),\n",
       " ('under the banner', 143),\n",
       " ('united states where', 144),\n",
       " ('was elected president', 145),\n",
       " ('was employed by', 146),\n",
       " ('was the governor', 147),\n",
       " ('west in the', 148),\n",
       " ('west senatorial candidate', 149),\n",
       " ('where he studied', 150),\n",
       " ('who is the', 151),\n",
       " ('wide margin as', 152),\n",
       " ('won by wide', 153),\n",
       " ('won re election', 154),\n",
       " ('years later he', 155)]"
      ]
     },
     "execution_count": 24,
     "metadata": {},
     "output_type": "execute_result"
    }
   ],
   "source": [
    "X = cv.fit_transform(corpus)\n",
    "cv.vocabulary_\n",
    "sorted(cv.vocabulary_.items())\n"
   ]
  },
  {
   "cell_type": "code",
   "execution_count": 14,
   "metadata": {},
   "outputs": [
    {
     "data": {
      "text/plain": [
       "array([[0, 0, 0, 0, 1, 0, 0, 1, 0, 0, 0, 0, 1, 0, 0, 0, 0, 0, 0, 0, 0, 0,\n",
       "        0, 0, 1, 1, 0, 0, 0, 0, 0, 1, 1, 0, 0, 0, 0, 0, 0, 0, 0, 0, 0, 0,\n",
       "        0, 0, 0, 0, 0, 0, 1, 0, 0, 0, 0, 0, 0, 0, 0, 0, 0, 0, 0, 0, 0, 0,\n",
       "        0, 0, 0, 1, 1, 0, 0, 0, 0, 0, 0, 0, 0, 0, 1, 0, 0, 0, 0, 0, 0, 0,\n",
       "        0, 1, 0, 0, 0, 0, 0, 0, 0, 0, 0, 1, 0, 0, 1, 0, 0, 0, 0, 0, 0, 0,\n",
       "        0, 0, 0, 0, 0, 0, 0, 0, 0, 1, 0, 0, 0, 0, 0, 0, 0, 0, 0, 0, 0, 1,\n",
       "        0, 0, 0, 1, 0, 0, 0, 0, 0, 0, 0, 0, 0, 0, 0, 0, 0, 0, 0, 1, 0, 0,\n",
       "        0, 0]], dtype=int64)"
      ]
     },
     "execution_count": 14,
     "metadata": {},
     "output_type": "execute_result"
    }
   ],
   "source": [
    "X[0].toarray()"
   ]
  },
  {
   "cell_type": "code",
   "execution_count": 10,
   "metadata": {},
   "outputs": [
    {
     "data": {
      "text/plain": [
       "[' chief bola ahmed adekunle tinubu gcfr  born    march       is a nigerian politician who is the   th and current president of nigeria ',\n",
       " '    he was the governor of lagos state from      to       and senator for lagos west in the third republic ',\n",
       " 'tinubu spent his early life in southwestern nigeria and later moved to the united states where he studied accounting at chicago state university ',\n",
       " 'he returned to nigeria in the early     s and was employed by mobil nigeria as an accountant  before entering politics as a lagos west senatorial candidate in      under the banner of the social democratic party ',\n",
       " 'after dictator sani abacha dissolved the senate in       tinubu became an activist campaigning for the return of democracy as a part of the national democratic coalition movement ',\n",
       " 'in the first post transition lagos state gubernatorial election  tinubu won by a wide margin as a member of the alliance for democracy ',\n",
       " 'four years later  he won re election to a second term ',\n",
       " 'after leaving office in       he played a key role in the formation of the all progressives congress in      ',\n",
       " 'in       he was elected president of nigeria ']"
      ]
     },
     "execution_count": 10,
     "metadata": {},
     "output_type": "execute_result"
    }
   ],
   "source": [
    "corpus"
   ]
  },
  {
   "cell_type": "code",
   "execution_count": 32,
   "metadata": {},
   "outputs": [],
   "source": [
    "## TFIDF\n",
    "\n",
    "from sklearn.feature_extraction.text import TfidfVectorizer\n",
    "tv = TfidfVectorizer(ngram_range=(1,1))\n",
    "X = tv.fit_transform(corpus)"
   ]
  },
  {
   "cell_type": "code",
   "execution_count": 33,
   "metadata": {},
   "outputs": [
    {
     "data": {
      "text/plain": [
       "array([[0.        , 0.        , 0.        , 0.        , 0.23302588,\n",
       "        0.        , 0.23302588, 0.        , 0.        , 0.        ,\n",
       "        0.15120004, 0.        , 0.        , 0.        , 0.        ,\n",
       "        0.        , 0.23302588, 0.23302588, 0.        , 0.        ,\n",
       "        0.        , 0.        , 0.23302588, 0.        , 0.        ,\n",
       "        0.23302588, 0.        , 0.        , 0.        , 0.        ,\n",
       "        0.        , 0.        , 0.        , 0.        , 0.        ,\n",
       "        0.        , 0.        , 0.        , 0.        , 0.        ,\n",
       "        0.23302588, 0.        , 0.        , 0.        , 0.        ,\n",
       "        0.        , 0.46605176, 0.        , 0.        , 0.        ,\n",
       "        0.        , 0.        , 0.23302588, 0.        , 0.        ,\n",
       "        0.        , 0.        , 0.        , 0.        , 0.15120004,\n",
       "        0.23302588, 0.10922816, 0.        , 0.        , 0.        ,\n",
       "        0.        , 0.23302588, 0.        , 0.        , 0.19681737,\n",
       "        0.        , 0.        , 0.        , 0.        , 0.        ,\n",
       "        0.        , 0.        , 0.        , 0.        , 0.        ,\n",
       "        0.        , 0.        , 0.        , 0.        , 0.        ,\n",
       "        0.        , 0.        , 0.        , 0.23302588, 0.10922816,\n",
       "        0.        , 0.15120004, 0.        , 0.        , 0.        ,\n",
       "        0.        , 0.        , 0.        , 0.        , 0.        ,\n",
       "        0.23302588, 0.        , 0.        , 0.        ]])"
      ]
     },
     "execution_count": 33,
     "metadata": {},
     "output_type": "execute_result"
    }
   ],
   "source": [
    "X[0].toarray()"
   ]
  },
  {
   "cell_type": "code",
   "execution_count": null,
   "metadata": {},
   "outputs": [],
   "source": []
  }
 ],
 "metadata": {
  "kernelspec": {
   "display_name": "base",
   "language": "python",
   "name": "python3"
  },
  "language_info": {
   "codemirror_mode": {
    "name": "ipython",
    "version": 3
   },
   "file_extension": ".py",
   "mimetype": "text/x-python",
   "name": "python",
   "nbconvert_exporter": "python",
   "pygments_lexer": "ipython3",
   "version": "3.8.8"
  },
  "orig_nbformat": 4
 },
 "nbformat": 4,
 "nbformat_minor": 2
}
